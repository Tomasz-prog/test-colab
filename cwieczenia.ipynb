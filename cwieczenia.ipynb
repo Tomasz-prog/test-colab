{
  "nbformat": 4,
  "nbformat_minor": 0,
  "metadata": {
    "colab": {
      "name": "cwieczenia.ipynb",
      "provenance": [],
      "collapsed_sections": [],
      "authorship_tag": "ABX9TyOsbXQTCZTpoiGACozeA7EG",
      "include_colab_link": true
    },
    "kernelspec": {
      "name": "python3",
      "display_name": "Python 3"
    },
    "language_info": {
      "name": "python"
    }
  },
  "cells": [
    {
      "cell_type": "markdown",
      "metadata": {
        "id": "view-in-github",
        "colab_type": "text"
      },
      "source": [
        "<a href=\"https://colab.research.google.com/github/Tomasz-prog/test-colab/blob/main/cwieczenia.ipynb\" target=\"_parent\"><img src=\"https://colab.research.google.com/assets/colab-badge.svg\" alt=\"Open In Colab\"/></a>"
      ]
    },
    {
      "cell_type": "code",
      "metadata": {
        "id": "vKTlxDpNvuD_",
        "outputId": "e61d8c71-cd78-4c16-ae42-52256f5a9ccb",
        "colab": {
          "base_uri": "https://localhost:8080/"
        }
      },
      "source": [
        "price = 1000\n",
        "rabat = 20\n",
        "cena = 1000 - (rabat / 100 * price)  \n",
        "print(cena)"
      ],
      "execution_count": 4,
      "outputs": [
        {
          "output_type": "stream",
          "name": "stdout",
          "text": [
            "800.0\n"
          ]
        }
      ]
    },
    {
      "cell_type": "markdown",
      "metadata": {
        "id": "-tr5V0a0xWU6"
      },
      "source": [
        "# Ćwiczenia"
      ]
    },
    {
      "cell_type": "code",
      "metadata": {
        "id": "urpamQyEvuBe"
      },
      "source": [
        "import numpy as np"
      ],
      "execution_count": 5,
      "outputs": []
    },
    {
      "cell_type": "code",
      "metadata": {
        "id": "_akpNtl4vt1e",
        "outputId": "46736eb7-ae4a-41c6-b959-709e68d8119c",
        "colab": {
          "base_uri": "https://localhost:8080/",
          "height": 35
        }
      },
      "source": [
        "np.__version__"
      ],
      "execution_count": 6,
      "outputs": [
        {
          "output_type": "execute_result",
          "data": {
            "application/vnd.google.colaboratory.intrinsic+json": {
              "type": "string"
            },
            "text/plain": [
              "'1.19.5'"
            ]
          },
          "metadata": {},
          "execution_count": 6
        }
      ]
    },
    {
      "cell_type": "markdown",
      "metadata": {
        "id": "-HSUEc2SvbVe"
      },
      "source": [
        "przykładowe rozwiązanie\n"
      ]
    },
    {
      "cell_type": "code",
      "metadata": {
        "id": "ZsnpygpVvvEd"
      },
      "source": [
        "np.random.rand()"
      ],
      "execution_count": null,
      "outputs": []
    },
    {
      "cell_type": "code",
      "metadata": {
        "id": "tCrpsWXsvu63"
      },
      "source": [
        ""
      ],
      "execution_count": null,
      "outputs": []
    },
    {
      "cell_type": "code",
      "metadata": {
        "id": "E0OumjC6vvB9"
      },
      "source": [
        "!pip install imageai"
      ],
      "execution_count": null,
      "outputs": []
    },
    {
      "cell_type": "markdown",
      "metadata": {
        "id": "y4OR-hCL0Lhr"
      },
      "source": [
        "### Markdown"
      ]
    },
    {
      "cell_type": "code",
      "metadata": {
        "id": "22ddS5Ln0Mzo"
      },
      "source": [
        ""
      ],
      "execution_count": null,
      "outputs": []
    },
    {
      "cell_type": "markdown",
      "metadata": {
        "id": "tkD1OWW30a_K"
      },
      "source": [
        "\n",
        "Examples of *markdown*   \n",
        "Examples of **markdown**    \n",
        "Examples of __markdown__   \n",
        "Examples of 'markdown'\n",
        "\n",
        "```     \n",
        "Examples of markdown\n",
        "```\n",
        "\n",
        "\n"
      ]
    },
    {
      "cell_type": "code",
      "metadata": {
        "id": "7bzLHHod0cXi"
      },
      "source": [
        ""
      ],
      "execution_count": null,
      "outputs": []
    }
  ]
}